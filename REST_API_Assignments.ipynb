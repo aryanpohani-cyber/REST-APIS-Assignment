{
  "nbformat": 4,
  "nbformat_minor": 0,
  "metadata": {
    "colab": {
      "provenance": []
    },
    "kernelspec": {
      "name": "python3",
      "display_name": "Python 3"
    },
    "language_info": {
      "name": "python"
    }
  },
  "cells": [
    {
      "cell_type": "markdown",
      "source": [
        "1. What is a RESTful API?\n",
        " - A RESTful API is an Application Programming Interface (API) that follows the principles of REST (Representational State Transfer), which is an architectural style for designing networked applications.\n",
        "\n",
        "2.  Explain the concept of API specificatio.\n",
        " - An API specification is a document or blueprint that defines how an API should behave, how it can be used, and what data it expects and returns.\n",
        "It acts as a contract between the API provider and the API consumer.\n",
        "Ensures that developers understand how to interact with the API correctly.\n",
        "\n",
        "3. What is Flask, and why is it popular for building APIs?\n",
        " - Flask is a lightweight web framework for Python that is used to build web applications, including APIs.\n",
        "It is classified as a microframework, meaning it provides the core tools to build web apps but does not include additional libraries by default (like database tools or authentication).\n",
        "\n",
        "4. What is routing in Flask?\n",
        " - Routing is the process of mapping a URL (or endpoint) to a Python function.\n",
        "When a client makes a request to a specific URL, Flask calls the corresponding function and returns the response.\n",
        "Each function associated with a URL is called a view function.\n",
        "\n",
        "5. How do you create a simple Flask application?\n",
        " - Flask(__name__)\n",
        "\n",
        "Creates a Flask application instance.         \n",
        "__name__ helps Flask know where to look for templates and static files.\n",
        "@app.route(\"/\")\n",
        "Decorator to define a route for the URL /.\n",
        "Calls the home() function when a client visits /.\n",
        "return\n",
        "The function returns the response sent to the client.\n",
        "app.run(debug=True)\n",
        "Starts the development server.\n",
        "debug=True enables automatic reloading and shows errors in the browser.\n",
        "\n",
        "6. What are HTTP methods used in RESTful APIs?\n",
        " - Method\tPurpose / Use Case\n",
        "GET\tRetrieve data from the server. Example: Get a user or list of users.\n",
        "POST\tCreate new resources on the server. Example: Add a new user.\n",
        "PUT\tUpdate an existing resource completely. Example: Update all details of a user.\n",
        "PATCH\tPartially update an existing resource. Example: Update only the user’s email.\n",
        "DELETE\tDelete a resource from the server. Example: Remove a user.\n",
        "HEAD\tRetrieve headers only (no body) of a resource.\n",
        "OPTIONS\tCheck which HTTP methods are allowed for a resource.\n",
        "\n",
        "7. What is the purpose of the @app.route() decorator in Flask?\n",
        " - @app.route() Decorator in Flask\n",
        "\n",
        "The @app.route() decorator is used to map a URL (endpoint) to a Python function in a Flask application.\\\n",
        "When a client visits a specific URL, Flask calls the corresponding function and sends its return value as the HTTP response.\n",
        "Each function associated with a URL is called a view function.\n",
        "\n",
        "8. What is the difference between GET and POST HTTP methods?\n",
        " - Feature\tGET\tPOST\n",
        "Purpose\tRetrieve data from the server.\tSend data to the server to create/update a resource.\n",
        "Data in Request\tSent in the URL as query parameters.\tSent in the request body (not visible in URL).\n",
        "Security\tLess secure (data visible in URL).\tMore secure than GET (data in body, not URL).\n",
        "Data Length Limit\tLimited by URL length (usually ~2000 chars).\tNo practical size limit; can send large payloads.\n",
        "Caching\tCan be cached by browsers.\tNot cached by default.\n",
        "Idempotency\tYes (repeating GET has same effect).\tNo (repeating POST may create multiple resources).\n",
        "Use Case Example\tFetch a user profile, search results.\tSubmit a form, upload a file, create a new user.\n",
        "\n",
        "9. How do you handle errors in Flask APIs?\n",
        " - ure! In Flask, handling errors in APIs is essential for providing meaningful responses instead of just letting the server crash. Flask provides multiple ways to handle errors.\n",
        "\n",
        " 10.  How do you connect Flask to a SQL database?\n",
        "  - Flask can connect to any SQL database like:\n",
        "SQLite (lightweight, built-in with Python)\n",
        "MySQL / MariaDB\n",
        "PostgreSQL\n",
        "For simplicity, we’ll use SQLite first."
      ],
      "metadata": {
        "id": "zBaz7TZlq4LX"
      }
    },
    {
      "cell_type": "code",
      "source": [
        "#1. DM How do you create a basic Flask application?\n",
        "\n",
        "from flask import Flask\n",
        "\n",
        "# Create a Flask app instance\n",
        "app = Flask(__name__)\n",
        "\n",
        "# Define a route for the home page\n",
        "@app.route(\"/\")\n",
        "def home():\n",
        "    return \"Hello, Flask!\"\n",
        "\n",
        "# Run the application\n",
        "if __name__ == \"__main__\":\n",
        "    app.run(debug=True)"
      ],
      "metadata": {
        "colab": {
          "base_uri": "https://localhost:8080/"
        },
        "id": "l4Xc-vJwsxPg",
        "outputId": "8adb0cff-0971-49ea-d770-112aea0fbc17"
      },
      "execution_count": null,
      "outputs": [
        {
          "output_type": "stream",
          "name": "stdout",
          "text": [
            " * Serving Flask app '__main__'\n",
            " * Debug mode: on\n"
          ]
        },
        {
          "output_type": "stream",
          "name": "stderr",
          "text": [
            "INFO:werkzeug:\u001b[31m\u001b[1mWARNING: This is a development server. Do not use it in a production deployment. Use a production WSGI server instead.\u001b[0m\n",
            " * Running on http://127.0.0.1:5000\n",
            "INFO:werkzeug:\u001b[33mPress CTRL+C to quit\u001b[0m\n",
            "INFO:werkzeug: * Restarting with watchdog (inotify)\n"
          ]
        }
      ]
    },
    {
      "cell_type": "code",
      "source": [
        "#2.How do you serve static files like images or CSS in Flask?\n",
        "\n",
        "from flask import Flask, render_template\n",
        "\n",
        "app = Flask(__name__)\n",
        "\n",
        "@app.route(\"/\")\n",
        "def home():\n",
        "    return render_template(\"index.html\")\n",
        "\n",
        "if __name__ == \"__main__\":\n",
        "    app.run(debug=True)"
      ],
      "metadata": {
        "id": "wcMVm71ns6sk"
      },
      "execution_count": null,
      "outputs": []
    },
    {
      "cell_type": "code",
      "source": [
        "#3. M How do you define different routes with different HTTP methods in Flask?\n",
        "from flask import Flask\n",
        "\n",
        "app = Flask(__name__)\n",
        "\n",
        "@app.route(\"/\")\n",
        "def home():\n",
        "    return \"Welcome to Flask!\"\n",
        "\n",
        "if __name__ == \"__main__\":\n",
        "    app.run(debug=True)"
      ],
      "metadata": {
        "id": "woRYSu24tNzx"
      },
      "execution_count": null,
      "outputs": []
    },
    {
      "cell_type": "code",
      "source": [
        "#4. How do you render HTML templates in Flask?\n",
        "<!DOCTYPE html>\n",
        "from flask import Flask, render_template\n",
        "\n",
        "app = Flask(__name__)\n",
        "\n",
        "@app.route(\"/\")\n",
        "def home():\n",
        "    return render_template(\"index.html\", name=\"John\")\n",
        "\n",
        "if __name__ == \"__main__\":\n",
        "    app.run(debug=True)"
      ],
      "metadata": {
        "id": "K4tYHd6utfzR"
      },
      "execution_count": null,
      "outputs": []
    },
    {
      "cell_type": "code",
      "source": [
        "#5.How can you generate URLs for routes in Flask using url_for?\n",
        "from flask import Flask, url_for\n",
        "\n",
        "app = Flask(__name__)\n",
        "\n",
        "@app.route(\"/\")\n",
        "def home():\n",
        "    return \"Home Page\"\n",
        "\n",
        "@app.route(\"/about\")\n",
        "def about():\n",
        "    return \"About Page\"\n",
        "\n",
        "with app.test_request_context():\n",
        "    print(url_for('home'))   # Output: /\n",
        "    print(url_for('about'))  # Output: /about"
      ],
      "metadata": {
        "id": "u998bWGBtpbf"
      },
      "execution_count": null,
      "outputs": []
    },
    {
      "cell_type": "code",
      "source": [],
      "metadata": {
        "id": "Diw-4lgMuEy3"
      },
      "execution_count": null,
      "outputs": []
    }
  ]
}